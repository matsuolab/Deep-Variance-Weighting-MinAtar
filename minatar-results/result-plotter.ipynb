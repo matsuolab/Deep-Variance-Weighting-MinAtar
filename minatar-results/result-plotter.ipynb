{
 "cells": [
  {
   "cell_type": "code",
   "execution_count": 2,
   "metadata": {},
   "outputs": [],
   "source": [
    "import matplotlib.pyplot as plt\n",
    "import seaborn as sns\n",
    "import pandas as pd\n",
    "import numpy as np\n",
    "import wandb"
   ]
  },
  {
   "cell_type": "code",
   "execution_count": 3,
   "metadata": {},
   "outputs": [],
   "source": [
    "api = wandb.Api()\n",
    "runs = api.runs(\"[ENTER YOUR WANDB ACCOUNT]\")  # Replace here with your wandb account"
   ]
  },
  {
   "cell_type": "code",
   "execution_count": 4,
   "metadata": {},
   "outputs": [],
   "source": [
    "from collections import defaultdict\n",
    "data = defaultdict(lambda: defaultdict(list))  # {\"env\": {\"algo\": [result, result, ...]}}\n",
    "\n",
    "for run in runs: \n",
    "    env_id = run.config[\"env_id\"]\n",
    "    seed = run.config[\"seed\"]\n",
    "\n",
    "    if run.config[\"env_random_prob\"] != 0:  # we use the results with env_random_prob == 0\n",
    "        continue\n",
    "\n",
    "    is_munchausen = run.config[\"kl_coef\"] != 0 and run.config[\"ent_coef\"] != 0\n",
    "    is_weighted = run.config[\"weight_type\"] == \"variance-net\"\n",
    "\n",
    "    if is_weighted and run.config[\"weight_epsilon\"] != 0.1:  # we use the results with weight_epsilon == 0.1\n",
    "        continue\n",
    "\n",
    "    if is_munchausen and is_weighted:\n",
    "        algo = \"DVW M-DQN\"\n",
    "    elif is_munchausen and not is_weighted:\n",
    "        algo = \"M-DQN\"\n",
    "    elif not is_munchausen and is_weighted:\n",
    "        algo = \"DVW DQN\"\n",
    "    elif not is_munchausen and not is_weighted:\n",
    "        algo = \"DQN\"\n",
    "\n",
    "    steps, returns = [], []\n",
    "    for _, row in run.history(keys=[\"charts/episodic_return\", \"global_step\"]).iterrows():\n",
    "        # global_step = round(row[\"global_step\"] / 2e5) * 2e5\n",
    "        global_step = row[\"global_step\"]\n",
    "        steps.append(global_step)\n",
    "        returns.append(row[\"charts/episodic_return\"])\n",
    "    \n",
    "    df = pd.DataFrame({\"Samples\": steps, \"Return\": returns})\n",
    "    data[env_id][algo].append(df)"
   ]
  },
  {
   "cell_type": "code",
   "execution_count": 5,
   "metadata": {},
   "outputs": [],
   "source": [
    "data2 = defaultdict(dict)  # {\"env\": {\"algo\": result}}\n",
    "\n",
    "for env in data:\n",
    "    for algo in data[env]:\n",
    "        dfs = []\n",
    "        for df in data[env][algo]:\n",
    "            df2 = {}\n",
    "            df2[\"Samples\"] = df[\"Samples\"].round(-5)\n",
    "            df2[\"Return\"] = df[\"Return\"].rolling(50, min_periods=1).mean()\n",
    "            dfs.append(pd.DataFrame(df2))\n",
    "        data2[env][algo] = pd.concat(dfs)"
   ]
  },
  {
   "cell_type": "code",
   "execution_count": 12,
   "metadata": {},
   "outputs": [],
   "source": [
    "colors = {\n",
    "    \"DVW M-DQN\": sns.color_palette()[0],\n",
    "    \"M-DQN\": sns.color_palette()[1],\n",
    "    \"DVW DQN\": sns.color_palette()[2],\n",
    "    \"DQN\": sns.color_palette()[3],\n",
    "}\n",
    "\n",
    "def plot_result(env, ylim, target=\"both\", label=True, title=True):\n",
    "    sns.set(font_scale=1.4)\n",
    "    plt.figure(figsize=(7, 5))\n",
    "\n",
    "    with sns.axes_style(\"whitegrid\"):\n",
    "        if target == \"both\":\n",
    "            cond = lambda algo: True\n",
    "            filename = f\"{env}-Both\"\n",
    "        elif target == \"munchausen\":\n",
    "            cond = lambda algo: \"M-\" in algo\n",
    "            filename = f\"{env}-M-DQN\"\n",
    "        elif target == \"vanilla\":\n",
    "            cond = lambda algo: \"M-\" not in algo\n",
    "            filename = f\"{env}-DQN\"\n",
    "        else:\n",
    "            raise ValueError\n",
    "\n",
    "        for algo, color in colors.items():\n",
    "            result = data2[env][algo]\n",
    "            if cond(algo):\n",
    "                if not label:\n",
    "                    algo = None\n",
    "                ax = sns.lineplot(data=result, x=\"Samples\", y=\"Return\", errorbar=(\"sd\", 0.5), label=algo, estimator=\"mean\", color=color)\n",
    "                ax.set_ylim(top=ylim)\n",
    "                ax.set_xlabel(\"Samples\", fontsize=21)\n",
    "                ax.set_ylabel(\"Return\", fontsize=21)\n",
    "\n",
    "        if label:\n",
    "            plt.legend(loc=\"upper left\")\n",
    "\n",
    "    if title:\n",
    "        plt.title(env.capitalize(), fontsize=21)\n",
    "    plt.savefig(f\"{filename}.png\", bbox_inches=\"tight\")\n",
    "    plt.savefig(f\"{filename}.pdf\", bbox_inches=\"tight\")\n",
    "    plt.close()"
   ]
  },
  {
   "cell_type": "code",
   "execution_count": null,
   "metadata": {},
   "outputs": [],
   "source": [
    "env = \"breakout\"\n",
    "plot_result(env, ylim=95, target=\"both\", label=True)\n",
    "plot_result(env, ylim=95, target=\"vanilla\", label=True)\n",
    "plot_result(env, ylim=95, target=\"munchausen\", label=True)"
   ]
  },
  {
   "cell_type": "code",
   "execution_count": null,
   "metadata": {},
   "outputs": [],
   "source": [
    "env = \"seaquest\"\n",
    "plot_result(env, ylim=120, target=\"both\", label=False)\n",
    "plot_result(env, ylim=120, target=\"vanilla\", label=False)\n",
    "plot_result(env, ylim=120, target=\"munchausen\", label=False)"
   ]
  },
  {
   "cell_type": "code",
   "execution_count": null,
   "metadata": {},
   "outputs": [],
   "source": [
    "env = \"freeway\"\n",
    "plot_result(env, ylim=75, target=\"both\", label=False)\n",
    "plot_result(env, ylim=75, target=\"vanilla\", label=False)\n",
    "plot_result(env, ylim=75, target=\"munchausen\", label=False)"
   ]
  },
  {
   "cell_type": "code",
   "execution_count": 10,
   "metadata": {},
   "outputs": [],
   "source": [
    "env = \"space_invaders\"\n",
    "plot_result(env, ylim=300, target=\"both\", label=False)\n",
    "plot_result(env, ylim=300, target=\"vanilla\", label=False)\n",
    "plot_result(env, ylim=300, target=\"munchausen\", label=False)"
   ]
  },
  {
   "cell_type": "code",
   "execution_count": 11,
   "metadata": {},
   "outputs": [],
   "source": [
    "env = \"asterix\"\n",
    "plot_result(env, ylim=55, target=\"both\", label=False)\n",
    "plot_result(env, ylim=55, target=\"vanilla\", label=False)\n",
    "plot_result(env, ylim=55, target=\"munchausen\", label=False)"
   ]
  },
  {
   "cell_type": "code",
   "execution_count": null,
   "metadata": {},
   "outputs": [],
   "source": []
  }
 ],
 "metadata": {
  "kernelspec": {
   "display_name": "Python 3.9.0 ('cleanrl')",
   "language": "python",
   "name": "python3"
  },
  "language_info": {
   "codemirror_mode": {
    "name": "ipython",
    "version": 3
   },
   "file_extension": ".py",
   "mimetype": "text/x-python",
   "name": "python",
   "nbconvert_exporter": "python",
   "pygments_lexer": "ipython3",
   "version": "3.9.0"
  },
  "orig_nbformat": 4,
  "vscode": {
   "interpreter": {
    "hash": "ebde4856eedb2eb2f23302bd8c032d8d1d9fb337d1496920ef687d965044e200"
   }
  }
 },
 "nbformat": 4,
 "nbformat_minor": 2
}
